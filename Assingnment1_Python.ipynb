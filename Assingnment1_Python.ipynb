{
  "nbformat": 4,
  "nbformat_minor": 0,
  "metadata": {
    "colab": {
      "provenance": [],
      "authorship_tag": "ABX9TyOQk0MR33Y7JxjO4IEvjB2V",
      "include_colab_link": true
    },
    "kernelspec": {
      "name": "python3",
      "display_name": "Python 3"
    },
    "language_info": {
      "name": "python"
    }
  },
  "cells": [
    {
      "cell_type": "markdown",
      "metadata": {
        "id": "view-in-github",
        "colab_type": "text"
      },
      "source": [
        "<a href=\"https://colab.research.google.com/github/sanskritidhar79/Python/blob/main/Assingnment1_Python.ipynb\" target=\"_parent\"><img src=\"https://colab.research.google.com/assets/colab-badge.svg\" alt=\"Open In Colab\"/></a>"
      ]
    },
    {
      "cell_type": "code",
      "execution_count": null,
      "metadata": {
        "id": "ISGIZ8qtUmqj"
      },
      "outputs": [],
      "source": []
    },
    {
      "cell_type": "markdown",
      "source": [
        "# 1. Create a program that asks the user to enter their name and their age. Print out a message addressed to them that tells them the year that they will turn 100 years old."
      ],
      "metadata": {
        "id": "UW4A4kv5U2ry"
      }
    },
    {
      "cell_type": "code",
      "source": [
        "import datetime\n",
        "name = input(\"enter your name  \")\n",
        "age = int(input(\"enter your age  \"))\n",
        "\n",
        "##now = datetime.datetime.now()\n",
        "#curr_year = now.year\n",
        "curr_year = datetime.datetime.now().year\n",
        "\n",
        "future_year = (100 - age) + curr_year\n",
        "\n",
        "\n",
        "print(\"hi\" , name , \" you will turn 100 in year \" , future_year)\n",
        "\n"
      ],
      "metadata": {
        "colab": {
          "base_uri": "https://localhost:8080/"
        },
        "id": "xfq0dIphU7s7",
        "outputId": "70911434-d0f4-4e64-f573-959ed010809f"
      },
      "execution_count": 1,
      "outputs": [
        {
          "output_type": "stream",
          "name": "stdout",
          "text": [
            "enter your name  sansk\n",
            "enter your age  28\n",
            "hi sansk  you will turn 100 in year  2097\n"
          ]
        }
      ]
    },
    {
      "cell_type": "markdown",
      "source": [
        "Create a program that asks the user for a number and then prints out a list of all the divisors of that number.\n",
        "\n"
      ],
      "metadata": {
        "id": "e59Dc4yuWjf0"
      }
    },
    {
      "cell_type": "code",
      "source": [
        "import math\n",
        "def approach_first():\n",
        "  num = int(input(\"Enter any number \"))\n",
        "  if num ==0:\n",
        "    return 0\n",
        "\n",
        "\n",
        "  for i in range(1 , abs(num)+1):\n",
        "    if num% i==0:\n",
        "      print(i)\n",
        "      print(-i)\n",
        "\n",
        "# Only for positive numbers\n",
        "def approach_second():\n",
        "\n",
        "  num = int(input(\"Enter any number \"))\n",
        "  res =[]\n",
        "\n",
        "  for i in range(1 , int(math.sqrt(num)) +1):\n",
        "    if num% i ==0:\n",
        "      res.append(i)\n",
        "      if i != num/i:\n",
        "        res.append(int(num/i))\n",
        "  res.sort()\n",
        "  print(res)\n",
        "\n",
        "approach_first()\n",
        "#approach_second()"
      ],
      "metadata": {
        "colab": {
          "base_uri": "https://localhost:8080/"
        },
        "id": "iHzHlXOsWq5C",
        "outputId": "bfa493a3-792f-44d7-fa70-62062ce8acf7"
      },
      "execution_count": 75,
      "outputs": [
        {
          "output_type": "stream",
          "name": "stdout",
          "text": [
            "Enter any number 6\n",
            "1\n",
            "-1\n",
            "2\n",
            "-2\n",
            "3\n",
            "-3\n",
            "6\n",
            "-6\n"
          ]
        }
      ]
    },
    {
      "cell_type": "markdown",
      "source": [],
      "metadata": {
        "id": "ri62Mb5eU1UB"
      }
    },
    {
      "cell_type": "markdown",
      "source": [
        "3. Take two lists, say for example these two: a = [1, 1, 2, 3, 5, 8, 13, 21, 34, 55, 89]\n",
        "b = [1, 2, 3, 4, 5, 6, 7, 8, 9, 10, 11, 12, 13]\n",
        "and\n",
        "write a program that returns a list that contains only the elements that are common between the lists (without duplicates). Make sure your program works on two lists of different sizes.\n"
      ],
      "metadata": {
        "id": "00p5lRDEXX_i"
      }
    },
    {
      "cell_type": "markdown",
      "source": [],
      "metadata": {
        "id": "ejW9ctbNXZnr"
      }
    },
    {
      "cell_type": "code",
      "source": [
        "\n",
        "def intersction_list_method_using_set():\n",
        "  list1 = input(\"Enter elements separated by space: \").split()\n",
        "  list2 = input(\"Enter elements separated by space: \").split()\n",
        "\n",
        "  if not list1 and not list2:\n",
        "    return \"Both list are empty\"\n",
        "  if not list1:\n",
        "    return set(list2)\n",
        "  elif not list2:\n",
        "    return set(list1)\n",
        "\n",
        "\n",
        "  a_set = set(list1)\n",
        "  b_set = set(list2)\n",
        "\n",
        "  res_set = a_set.intersection(b_set)\n",
        "\n",
        "  print(res_set)\n",
        "\n",
        "# Approach 2:\n",
        "\n",
        "def intersction_list_method():\n",
        "\n",
        "  list1 = input(\"Enter elements separated by space: \").split()\n",
        "  list2 = input(\"Enter elements separated by space: \").split()\n",
        "  intersction_list=[]\n",
        "  if not list1 and not list2:\n",
        "    return \"Both list are empty\"\n",
        "  if not list1:\n",
        "    return set(list2)\n",
        "  elif not list2:\n",
        "    return set(list1)\n",
        "\n",
        "  for i in list1:\n",
        "    if i in list2:\n",
        "      if i not in intersction_list:\n",
        "        intersction_list.append(i)\n",
        "\n",
        "  print(intersction_list)\n",
        "\n",
        "intersction_list_method()\n",
        "#intersction_list_method_using_set()\n",
        "\n",
        "\n",
        "\n",
        "\n"
      ],
      "metadata": {
        "colab": {
          "base_uri": "https://localhost:8080/"
        },
        "id": "QYNm7jf4Xbx8",
        "outputId": "81f271fa-740a-4c98-9685-61f64babfe9f"
      },
      "execution_count": 33,
      "outputs": [
        {
          "name": "stdout",
          "output_type": "stream",
          "text": [
            "Enter elements separated by space: \n",
            "Enter elements separated by space: 1 2 2 3\n"
          ]
        },
        {
          "output_type": "execute_result",
          "data": {
            "text/plain": [
              "{'1', '2', '3'}"
            ]
          },
          "metadata": {},
          "execution_count": 33
        }
      ]
    },
    {
      "cell_type": "markdown",
      "source": [
        "# 4. Ask the user for a string and print out whether this string is a palindrome or not. (A palindrome is a string that reads the same forwards and backwards.)\n"
      ],
      "metadata": {
        "id": "C10w1r7m5Wo6"
      }
    },
    {
      "cell_type": "markdown",
      "source": [],
      "metadata": {
        "id": "Sci4zbeNc8Ow"
      }
    },
    {
      "cell_type": "code",
      "source": [
        "\n",
        "def plaindrome():\n",
        "  str1 = input(\"Enter the String  \")\n",
        "  str2=\"\"\n",
        "\n",
        "  for i in str1:\n",
        "    str2= i + str2\n",
        "\n",
        "\n",
        "  if(str1 == str2):\n",
        "    return True\n",
        "  else:\n",
        "    return False\n",
        "\n",
        "plaindrome()\n",
        "\n",
        "\n",
        "\n",
        "\n",
        "\n"
      ],
      "metadata": {
        "colab": {
          "base_uri": "https://localhost:8080/"
        },
        "id": "LMOU23Zga0SH",
        "outputId": "4bc94342-cff6-4cbb-9e22-9e9f9bd4aeef"
      },
      "execution_count": 69,
      "outputs": [
        {
          "name": "stdout",
          "output_type": "stream",
          "text": [
            "Enter the String  gsh\n"
          ]
        },
        {
          "output_type": "execute_result",
          "data": {
            "text/plain": [
              "False"
            ]
          },
          "metadata": {},
          "execution_count": 69
        }
      ]
    },
    {
      "cell_type": "markdown",
      "source": [
        "# 5. Let’s say I give you a list saved in a variable: a = [1, 4, 9, 16, 25, 36, 49, 64, 81, 100]. Write one line of Python that takes this list “a” and makes a new list that has only the even elements of this list in it.\n"
      ],
      "metadata": {
        "id": "4duDUMBFbtsL"
      }
    },
    {
      "cell_type": "code",
      "source": [
        "a = [1, 4, 9, 16, 25, 36, 49, 64, 81, 100]\n",
        "res =[x for x in a  if x%2==0 ]\n",
        "print(res)"
      ],
      "metadata": {
        "colab": {
          "base_uri": "https://localhost:8080/"
        },
        "id": "SbEJB_qtb9h-",
        "outputId": "2189cd0e-6b38-4339-d2df-cb2d9c6f59fd"
      },
      "execution_count": 25,
      "outputs": [
        {
          "output_type": "stream",
          "name": "stdout",
          "text": [
            "[4, 16, 36, 64, 100]\n"
          ]
        }
      ]
    },
    {
      "cell_type": "markdown",
      "source": [
        "# 6.Generate a random number between 1 and 9 (including 1 and 9). Ask the user to guess the number, then tell them whether they guessed too low, too high, or exactly right.)\n"
      ],
      "metadata": {
        "id": "1BVw0Bqac9s_"
      }
    },
    {
      "cell_type": "code",
      "source": [
        "import random\n",
        "import math\n",
        "\n",
        "\n",
        "count =0\n",
        "\n",
        "while True:\n",
        "  guess = input(\" enter any number from 1 to 9 or Exit  \")\n",
        "\n",
        "  num = random.randint(1, 9)\n",
        "\n",
        "  if guess == \"exit\":\n",
        "    print(\"number of attempts done  .. \" , count)\n",
        "    break\n",
        "  elif (guess != \"exit\")  and not (1<= int(guess) <=9 ):\n",
        "    print(\"Enter valid input\")\n",
        "    continue\n",
        "\n",
        "  else:\n",
        "    guess = int(guess)\n",
        "    count+=1\n",
        "\n",
        "  print(\"Guessed number is \" , guess)\n",
        "  print(\"Generated number is \" , num)\n",
        "\n",
        "\n",
        "\n",
        "  if num == guess:\n",
        "    print(\"You are right\")\n",
        "  elif num < guess :\n",
        "    print(\" Guessed number is Too High than generated number\")\n",
        "  else:\n",
        "    print(\" Guessed number is Too low than generated number\")\n",
        "\n",
        "\n"
      ],
      "metadata": {
        "colab": {
          "base_uri": "https://localhost:8080/"
        },
        "id": "sFT-oxvrdKgi",
        "outputId": "bd4a6961-979c-492f-e8f1-2c69b5a27a4e"
      },
      "execution_count": 72,
      "outputs": [
        {
          "output_type": "stream",
          "name": "stdout",
          "text": [
            " enter any number from 1 to 9 or Exit  99\n",
            "Enter valid input\n",
            " enter any number from 1 to 9 or Exit  3\n",
            "Guessed number is  3\n",
            "Generated number is  5\n",
            " Guessed number is Too low than generated number\n",
            " enter any number from 1 to 9 or Exit  exit\n",
            "number of attempts done  ..  1\n"
          ]
        }
      ]
    },
    {
      "cell_type": "markdown",
      "source": [
        "Write a program to compute the factorial of a given number and display the result on the screen.\n"
      ],
      "metadata": {
        "id": "M6BbB-1yfIVm"
      }
    },
    {
      "cell_type": "code",
      "source": [
        "def rec_fact(n):\n",
        "  if (n ==0 or n ==1):\n",
        "    return 1\n",
        "  return n * rec_fact(n-1)\n",
        "\n",
        "print(rec_fact(4))"
      ],
      "metadata": {
        "colab": {
          "base_uri": "https://localhost:8080/"
        },
        "id": "Gp0pCUMrfNKl",
        "outputId": "24ca9d1d-0780-4181-ded9-ff54f1636067"
      },
      "execution_count": 43,
      "outputs": [
        {
          "output_type": "stream",
          "name": "stdout",
          "text": [
            "24\n"
          ]
        }
      ]
    },
    {
      "cell_type": "markdown",
      "source": [
        " Write a program to check if a given number is prime and display the result on the screen.\n",
        ""
      ],
      "metadata": {
        "id": "qyb6znoCf58Z"
      }
    },
    {
      "cell_type": "code",
      "source": [
        "def isPrime():\n",
        "  num = int(input(\" Enter the number\"))\n",
        "\n",
        "  flag = True\n",
        "\n",
        "  if num <2:\n",
        "    flag = False\n",
        "  for i in range(2,int(math.sqrt(num)) + 1):\n",
        "    if(num%i ==0):\n",
        "      flag = False\n",
        "      break\n",
        "  if flag == True:\n",
        "    print(\"Number is prime\")\n",
        "  else:\n",
        "    print(\" number is not prime\")\n",
        "\n",
        "isPrime()"
      ],
      "metadata": {
        "colab": {
          "base_uri": "https://localhost:8080/"
        },
        "id": "LmAqYKOUf-1s",
        "outputId": "d5c06970-3a1a-401f-d1f9-67f948dc848c"
      },
      "execution_count": 74,
      "outputs": [
        {
          "output_type": "stream",
          "name": "stdout",
          "text": [
            " Enter the number7\n",
            "Number is prime\n"
          ]
        }
      ]
    },
    {
      "cell_type": "markdown",
      "source": [
        "#9. Write a program to find the GCD of two numbers.\n"
      ],
      "metadata": {
        "id": "o_kUZy99hiwc"
      }
    },
    {
      "cell_type": "code",
      "source": [
        "def gcd(a,b):\n",
        "\n",
        "  for i in range(min(a,b) ,0 , -1):\n",
        "\n",
        "    if a%i ==0 and b%i ==0:\n",
        "      return i\n",
        "  return 1\n",
        "\n",
        "a = int(input(\"Enter first number\"))\n",
        "b =  int(input(\"Enter second number\"))\n",
        "gcd(a,b)"
      ],
      "metadata": {
        "colab": {
          "base_uri": "https://localhost:8080/"
        },
        "id": "wV7g00UjhoVm",
        "outputId": "78f0497b-22e5-4bd5-ac7e-68d9bf1a5c92"
      },
      "execution_count": 52,
      "outputs": [
        {
          "name": "stdout",
          "output_type": "stream",
          "text": [
            "Enter first number6\n",
            "Enter second number8\n"
          ]
        },
        {
          "output_type": "execute_result",
          "data": {
            "text/plain": [
              "2"
            ]
          },
          "metadata": {},
          "execution_count": 52
        }
      ]
    },
    {
      "cell_type": "markdown",
      "source": [
        "#10. Write a program to calculate the sine value of a given angle in degrees by evaluating sine series."
      ],
      "metadata": {
        "id": "O7qo4e4Otf6D"
      }
    },
    {
      "cell_type": "code",
      "source": [
        "import math\n",
        "\n",
        "def sine_series(angle_degree, terms=10):\n",
        "  #Converted to radain , as x needs to be radain in sin evalutaion\n",
        "    angle_radian = math.radians(angle_degree)\n",
        "    sine = 0\n",
        "\n",
        "    for n in range(terms):\n",
        "        sign = (-1) ** n\n",
        "        term = (angle_radian ** (2 * n + 1)) / math.factorial(2 * n + 1)\n",
        "        sine += sign * term\n",
        "\n",
        "    return sine\n",
        "\n",
        "angle_d = float(input(\"Enter angle in degrees\"))\n",
        "sine_series(angle_d)"
      ],
      "metadata": {
        "colab": {
          "base_uri": "https://localhost:8080/"
        },
        "id": "c2mU7cVmtpde",
        "outputId": "65c5b869-906f-4b46-a673-4771490f716e"
      },
      "execution_count": 66,
      "outputs": [
        {
          "name": "stdout",
          "output_type": "stream",
          "text": [
            "Enter angle in degrees1\n"
          ]
        },
        {
          "output_type": "execute_result",
          "data": {
            "text/plain": [
              "0.49999999999999994"
            ]
          },
          "metadata": {},
          "execution_count": 66
        }
      ]
    },
    {
      "cell_type": "markdown",
      "source": [
        "HOME TASK\n"
      ],
      "metadata": {
        "id": "AIzY09DnG0JM"
      }
    },
    {
      "cell_type": "code",
      "source": [
        "def gamePlay(a ,b ):\n",
        "  if len(a) != len(b):\n",
        "    print( \" Strings should be of same length\")\n",
        "  if a == b:\n",
        "    print(\"B wins\")\n",
        "    return\n",
        "  elif duplicate(a):\n",
        "    print(\"A wins\")\n",
        "    return\n",
        "  else:\n",
        "    print(\"B wins\")\n",
        "    return\n",
        "\n",
        "\n",
        "\n",
        "\n",
        "def duplicate(a):\n",
        "  freq = {}\n",
        "  for c in a:\n",
        "    freq[c] = freq.get(c , 0) +1\n",
        "  for count in freq.values():\n",
        "        if count > 1:\n",
        "          return True\n",
        "  return False\n",
        "\n",
        "test_cases = int(input(\" Enter the number of test cases\"))\n",
        "\n",
        "for i in range(test_cases):\n",
        "  s= input(\"Enter A string\")\n",
        "  t = input(\"Enter B string\")\n",
        "  gamePlay(s,t)\n",
        "\n",
        "\n"
      ],
      "metadata": {
        "colab": {
          "base_uri": "https://localhost:8080/"
        },
        "id": "2BtEFa-NG6NF",
        "outputId": "9978743f-2f7e-4882-efd9-e34c0f03c7be"
      },
      "execution_count": 63,
      "outputs": [
        {
          "output_type": "stream",
          "name": "stdout",
          "text": [
            " Enter the number of test cases5\n",
            "Enter A stringaba\n",
            "Enter B stringaba\n",
            "B wins\n",
            "Enter A stringsdf\n",
            "Enter B stringtrq\n",
            "B wins\n",
            "Enter A stringcdw\n",
            "Enter B stringaba\n",
            "B wins\n",
            "Enter A stringrte\n",
            "Enter B stringtte\n",
            "B wins\n",
            "Enter A stringtte\n",
            "Enter B stringrtt\n",
            "A wins\n"
          ]
        }
      ]
    }
  ]
}