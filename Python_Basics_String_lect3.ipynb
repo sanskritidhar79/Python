{
  "nbformat": 4,
  "nbformat_minor": 0,
  "metadata": {
    "colab": {
      "provenance": [],
      "authorship_tag": "ABX9TyOrdgDFswNnUURuS9m83dGj",
      "include_colab_link": true
    },
    "kernelspec": {
      "name": "python3",
      "display_name": "Python 3"
    },
    "language_info": {
      "name": "python"
    }
  },
  "cells": [
    {
      "cell_type": "markdown",
      "metadata": {
        "id": "view-in-github",
        "colab_type": "text"
      },
      "source": [
        "<a href=\"https://colab.research.google.com/github/sanskritidhar79/Python/blob/main/Python_Basics_String_lect3.ipynb\" target=\"_parent\"><img src=\"https://colab.research.google.com/assets/colab-badge.svg\" alt=\"Open In Colab\"/></a>"
      ]
    },
    {
      "cell_type": "code",
      "execution_count": 17,
      "metadata": {
        "colab": {
          "base_uri": "https://localhost:8080/"
        },
        "id": "6I-5Z1_zEMyJ",
        "outputId": "fca29b8c-fc54-4f55-e3de-49cd5ff4b02f"
      },
      "outputs": [
        {
          "output_type": "stream",
          "name": "stdout",
          "text": [
            " He\n",
            "o\n",
            "rld\n",
            " Hello world \n",
            "Hello world \n",
            " Hell\n",
            "Hlo\n",
            " hello world \n",
            " HELLO WORLD \n",
            "Hello world\n",
            "Hello world \n",
            " Hello world\n",
            "False\n",
            " Heyyl world \n",
            "['h', 'e', 'll', 'oo']\n",
            "a,b\n",
            "3\n"
          ]
        }
      ],
      "source": [
        "#Strings are immutable\n",
        "\n",
        "str1 = \" Hello world \"\n",
        "\n",
        "sl = str1[0:3] # prints from 0 till 3 , excluding 3\n",
        "print(sl)\n",
        "\n",
        "# only one character\n",
        "print(str1[8])\n",
        "\n",
        "print(str1[-4:-1])\n",
        "\n",
        "print(str1[:]) # prints whole string\n",
        "print(str1[1:]) # from first index to last\n",
        "print(str1[:5]) # from start to 5th index\n",
        "print(str1[1:6:2]) # takes string from 1 to 6 , then jumps with 2 indeces\n",
        "\n",
        "# .... String Functions .....\n",
        "print(str1.lower())\n",
        "print(str1.upper())\n",
        "print(str1.strip().capitalize())\n",
        "print(str1.lstrip())\n",
        "print(str1.rstrip())\n",
        "print(str1.islower())\n",
        "print(str1.replace(\"llo\" ,\"yyl\"))\n",
        "\n",
        "str2 = \"h,e,ll,oo\"\n",
        "print(str2.split(',')) # mention the delimiter , by default its space\n",
        "print(\",\".join(['a' ,'b']))\n",
        "\n",
        "print(str1.find(\"l\"))\n",
        "\n",
        "\n"
      ]
    }
  ]
}