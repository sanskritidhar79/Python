{
  "nbformat": 4,
  "nbformat_minor": 0,
  "metadata": {
    "colab": {
      "provenance": [],
      "authorship_tag": "ABX9TyPKxfmdZvPGqWZWYnqrK9xm",
      "include_colab_link": true
    },
    "kernelspec": {
      "name": "python3",
      "display_name": "Python 3"
    },
    "language_info": {
      "name": "python"
    }
  },
  "cells": [
    {
      "cell_type": "markdown",
      "metadata": {
        "id": "view-in-github",
        "colab_type": "text"
      },
      "source": [
        "<a href=\"https://colab.research.google.com/github/sanskritidhar79/Python/blob/main/Python_Basics_String_lect3.ipynb\" target=\"_parent\"><img src=\"https://colab.research.google.com/assets/colab-badge.svg\" alt=\"Open In Colab\"/></a>"
      ]
    },
    {
      "cell_type": "code",
      "execution_count": 20,
      "metadata": {
        "colab": {
          "base_uri": "https://localhost:8080/"
        },
        "id": "6I-5Z1_zEMyJ",
        "outputId": "fea1465c-3b54-41ce-c3e2-06d736f475bf"
      },
      "outputs": [
        {
          "output_type": "stream",
          "name": "stdout",
          "text": [
            "yey\n",
            "u\n",
            "uiu\n",
            "yeyuuuuiuiuiui\n",
            "eyuuuuiuiuiui\n",
            "yeyuu\n",
            "euu\n",
            "yeyuuuuiuiuiui\n",
            "YEYUUUUIUIUIUI\n",
            "Yeyuuuuiuiuiui\n",
            "yeyuuuuiuiuiui\n",
            "yeyuuuuiuiuiui\n",
            "True\n",
            "yeyuuuuiuiuiui\n",
            "['h', 'e', 'll', 'oo']\n",
            "a,b\n",
            "-1\n"
          ]
        }
      ],
      "source": [
        "#Strings are immutable\n",
        "\n",
        "str1 = \" Hello world \"\n",
        "#str1[2] = \"y\" ... this will throw error , as we cant modify String\n",
        "\n",
        "#str1 =\"This is a longer string\" , this will work\n",
        "sl = str1[0:3] # prints from 0 till 3 , excluding 3\n",
        "print(sl)\n",
        "\n",
        "# only one character\n",
        "print(str1[8])\n",
        "\n",
        "print(str1[-4:-1])\n",
        "\n",
        "print(str1[:]) # prints whole string\n",
        "print(str1[1:]) # from first index to last\n",
        "print(str1[:5]) # from start to 5th index\n",
        "print(str1[1:6:2]) # takes string from 1 to 6 , then jumps with 2 indeces\n",
        "\n",
        "# .... String Functions .....\n",
        "print(str1.lower())\n",
        "print(str1.upper())\n",
        "print(str1.strip().capitalize())\n",
        "print(str1.lstrip())\n",
        "print(str1.rstrip())\n",
        "print(str1.islower())\n",
        "print(str1.replace(\"llo\" ,\"yyl\"))\n",
        "\n",
        "str2 = \"h,e,ll,oo\"\n",
        "print(str2.split(',')) # mention the delimiter , by default its space\n",
        "print(\",\".join(['a' ,'b']))\n",
        "\n",
        "print(str1.find(\"l\"))\n",
        "\n",
        "\n"
      ]
    }
  ]
}