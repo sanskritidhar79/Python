{
  "nbformat": 4,
  "nbformat_minor": 0,
  "metadata": {
    "colab": {
      "provenance": [],
      "authorship_tag": "ABX9TyNkKpCurhek+2QOn5vFQogd",
      "include_colab_link": true
    },
    "kernelspec": {
      "name": "python3",
      "display_name": "Python 3"
    },
    "language_info": {
      "name": "python"
    }
  },
  "cells": [
    {
      "cell_type": "markdown",
      "metadata": {
        "id": "view-in-github",
        "colab_type": "text"
      },
      "source": [
        "<a href=\"https://colab.research.google.com/github/sanskritidhar79/Python/blob/main/Python_Basics_Lect1.ipynb\" target=\"_parent\"><img src=\"https://colab.research.google.com/assets/colab-badge.svg\" alt=\"Open In Colab\"/></a>"
      ]
    },
    {
      "cell_type": "code",
      "execution_count": 12,
      "metadata": {
        "colab": {
          "base_uri": "https://localhost:8080/"
        },
        "id": "dxI1fIwjKpx3",
        "outputId": "37c51536-c7b0-4aeb-e2e6-b5bb7f475cb0"
      },
      "outputs": [
        {
          "output_type": "stream",
          "name": "stdout",
          "text": [
            "6\n",
            "3\n",
            "False\n",
            "I am more greate\n",
            "I am greate\n",
            "<class 'str'>\n",
            "<class 'float'>\n",
            "<class 'str'>\n",
            "<class 'float'>\n",
            "False\n",
            "<class 'bool'>\n"
          ]
        }
      ],
      "source": [
        "# Airthematic operation\n",
        "#Addition\n",
        "\n",
        "a= 1\n",
        "b=5\n",
        "\n",
        "print(a+b)\n",
        "\n",
        "a *=3  #multiplies a with itselef\n",
        "print(a)\n",
        "\n",
        "d = b<a #comaprsion opeartor\n",
        "\n",
        "print(d) # returns true or false\n",
        "\n",
        "#Logical\n",
        "if a>8 and b>2:\n",
        "  print(\"I am greate\")\n",
        "else:\n",
        "  print(\"I am more greate\")\n",
        "\n",
        "if a>8 or b>2:\n",
        "  print(\"I am greate\")\n",
        "\n",
        "\n",
        "##### Type Casting #####\n",
        "\n",
        "x1= \"hello\"\n",
        "print(type(x1))\n",
        "\n",
        "x2 = 32.22\n",
        "print(type(x2))\n",
        "\n",
        "x3 = \"32.22\"\n",
        "print(type(x3))\n",
        "\n",
        "\n",
        "# from one data type to another\n",
        "x4 = float((x3))\n",
        "print(type(x4))\n",
        "\n",
        "x5 = True\n",
        "x6 = not x5\n",
        "print(x6)\n",
        "print(type(x6))\n",
        "\n",
        "# Datatypes in python - int , float , string , boolean , complex(using iota)\n"
      ]
    }
  ]
}