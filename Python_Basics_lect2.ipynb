{
  "nbformat": 4,
  "nbformat_minor": 0,
  "metadata": {
    "colab": {
      "provenance": [],
      "authorship_tag": "ABX9TyOOIYTk9Bhgz0mLg8EJCDzC",
      "include_colab_link": true
    },
    "kernelspec": {
      "name": "python3",
      "display_name": "Python 3"
    },
    "language_info": {
      "name": "python"
    }
  },
  "cells": [
    {
      "cell_type": "markdown",
      "metadata": {
        "id": "view-in-github",
        "colab_type": "text"
      },
      "source": [
        "<a href=\"https://colab.research.google.com/github/sanskritidhar79/Python/blob/main/Python_Basics_lect2.ipynb\" target=\"_parent\"><img src=\"https://colab.research.google.com/assets/colab-badge.svg\" alt=\"Open In Colab\"/></a>"
      ]
    },
    {
      "cell_type": "code",
      "execution_count": 5,
      "metadata": {
        "colab": {
          "base_uri": "https://localhost:8080/"
        },
        "id": "lL198WB9PCD8",
        "outputId": "5f258dd5-39ab-4bd1-ae55-1968ddb93e0a"
      },
      "outputs": [
        {
          "output_type": "stream",
          "name": "stdout",
          "text": [
            "Enter first number  12\n",
            "Enter second number  10\n",
            "22\n",
            "reaminder of number is  2\n",
            "rounding division of number is  1\n",
            "floating division of number is  1.2\n",
            " square  of number is  1\n"
          ]
        }
      ],
      "source": [
        "a = int(input(\"Enter first number  \"))\n",
        "b = int(input(\"Enter second number  \"))\n",
        "\n",
        "# if we will remove int , this wont work , as input fucntion gives String\n",
        "\n",
        "print(a+b)\n",
        "\n",
        "# Modolue function\n",
        "c = a%b\n",
        "\n",
        "print(\"reaminder of number is \" , c)\n",
        "\n",
        "c = a//b\n",
        "\n",
        "print(\"rounding division of number is \" , c)\n",
        "\n",
        "c = a/b\n",
        "\n",
        "print(\"floating division of number is \" , c)\n",
        "\n",
        "print(\" square  of number is \" , int(c)**2)\n",
        "\n",
        "# this is not valid\n",
        "#print(\" square  of number is \" , int(c)**2)\n",
        "\n",
        "\n"
      ]
    }
  ]
}