{
  "nbformat": 4,
  "nbformat_minor": 0,
  "metadata": {
    "colab": {
      "provenance": [],
      "authorship_tag": "ABX9TyOKFKEROKsDOZ7cc362r++F",
      "include_colab_link": true
    },
    "kernelspec": {
      "name": "python3",
      "display_name": "Python 3"
    },
    "language_info": {
      "name": "python"
    }
  },
  "cells": [
    {
      "cell_type": "markdown",
      "metadata": {
        "id": "view-in-github",
        "colab_type": "text"
      },
      "source": [
        "<a href=\"https://colab.research.google.com/github/sanskritidhar79/Python/blob/main/Assingment2_Python.ipynb\" target=\"_parent\"><img src=\"https://colab.research.google.com/assets/colab-badge.svg\" alt=\"Open In Colab\"/></a>"
      ]
    },
    {
      "cell_type": "markdown",
      "source": [
        "# 1. Write a recursive function that computes the sum of integers from 1 to n.\n"
      ],
      "metadata": {
        "id": "MaYHqcoIg2kB"
      }
    },
    {
      "cell_type": "code",
      "execution_count": null,
      "metadata": {
        "colab": {
          "base_uri": "https://localhost:8080/"
        },
        "id": "iue9N-7MzuOM",
        "outputId": "ea870e06-96a4-4f3e-d326-78d31d879a34"
      },
      "outputs": [
        {
          "name": "stdout",
          "output_type": "stream",
          "text": [
            " Enter the input integer4\n"
          ]
        },
        {
          "output_type": "execute_result",
          "data": {
            "text/plain": [
              "10"
            ]
          },
          "metadata": {},
          "execution_count": 5
        }
      ],
      "source": [
        "def rec_sum(n):\n",
        "  if n ==0:\n",
        "    return 0\n",
        "  else:\n",
        "    return n + rec_sum(n-1)\n",
        "\n",
        "num = int(input(\" Enter the input integer\"))\n",
        "rec_sum(num)"
      ]
    },
    {
      "cell_type": "code",
      "source": [],
      "metadata": {
        "id": "34x1ybmMEAfb"
      },
      "execution_count": null,
      "outputs": []
    },
    {
      "cell_type": "markdown",
      "source": [
        "# 2. Write a recursive function that inputs a decimal number and converts it to string in binary, octal or hexadecimal base.\n"
      ],
      "metadata": {
        "id": "_zBJcEZLg--5"
      }
    },
    {
      "cell_type": "code",
      "source": [
        "def convert_to_base(num,base):\n",
        "  str_val = \"0123456789ABCDEF\"\n",
        "  if num== 0:\n",
        "    return 0\n",
        "\n",
        "  else:\n",
        "    if base in (2,8):\n",
        "      return str(convert_to_base(num// base , base)) + str(num%base)\n",
        "    else:\n",
        "      return str(convert_to_base(num//base , base )) + str(str_val[num%base])\n",
        "\n",
        "def options():\n",
        "  num = int(input(\"Enter number\"))\n",
        "  base = int(input(\"Enter Base , 2- Binary , 8-Octal , 16 - HexaDecimal\"))\n",
        "  input_num = num\n",
        "\n",
        "  if num == 0:\n",
        "    return 0\n",
        "  if base not in (2,8,16):\n",
        "    return \"Invalid Base\"\n",
        "  if num <0:\n",
        "    input_num = abs(num)\n",
        "\n",
        "  res = convert_to_base(input_num , base)\n",
        "  if num < 0:\n",
        "    return \"-\" + res\n",
        "  else:\n",
        "    return res\n",
        "\n",
        "options()"
      ],
      "metadata": {
        "colab": {
          "base_uri": "https://localhost:8080/",
          "height": 71
        },
        "id": "Ubu0nCfg6a8T",
        "outputId": "33d36e0b-0ba7-430b-98b1-f4cbe31e0928"
      },
      "execution_count": null,
      "outputs": [
        {
          "name": "stdout",
          "output_type": "stream",
          "text": [
            "Enter number-78\n",
            "Enter Base , 2- Binary , 8-Octal , 16 - HexaDecimal16\n"
          ]
        },
        {
          "output_type": "execute_result",
          "data": {
            "text/plain": [
              "'-04E'"
            ],
            "application/vnd.google.colaboratory.intrinsic+json": {
              "type": "string"
            }
          },
          "metadata": {},
          "execution_count": 5
        }
      ]
    },
    {
      "cell_type": "markdown",
      "source": [],
      "metadata": {
        "id": "3KSH9CgNg07W"
      }
    },
    {
      "cell_type": "markdown",
      "source": [
        "# 3. Write a program to count the numbers of characters in the string and store them in the dictionary.\n"
      ],
      "metadata": {
        "id": "6xarKI1XhEP-"
      }
    },
    {
      "cell_type": "code",
      "source": [
        "def dict_create():\n",
        "  str1 = input(\" Enter any String\")\n",
        "  string_count = {}\n",
        "\n",
        "  for i in str1:\n",
        "    string_count[i]= string_count.get(i,0) +1\n",
        "  return string_count\n",
        "\n",
        "dict_create()"
      ],
      "metadata": {
        "colab": {
          "base_uri": "https://localhost:8080/"
        },
        "id": "3XFgK2AwjFiv",
        "outputId": "91b533da-c43e-4347-cbd8-ded22b803661"
      },
      "execution_count": null,
      "outputs": [
        {
          "name": "stdout",
          "output_type": "stream",
          "text": [
            " Enter any Stringhello how are you\n"
          ]
        },
        {
          "output_type": "execute_result",
          "data": {
            "text/plain": [
              "{'h': 2,\n",
              " 'e': 2,\n",
              " 'l': 2,\n",
              " 'o': 3,\n",
              " ' ': 3,\n",
              " 'w': 1,\n",
              " 'a': 1,\n",
              " 'r': 1,\n",
              " 'y': 1,\n",
              " 'u': 1}"
            ]
          },
          "metadata": {},
          "execution_count": 7
        }
      ]
    },
    {
      "cell_type": "markdown",
      "source": [
        "#4. A palindromic number reads the same both ways. The largest palindrome made from the product of two 2-digit numbers is 9009 = 91 × 99.\n"
      ],
      "metadata": {
        "id": "nORpH_V0hKC5"
      }
    },
    {
      "cell_type": "code",
      "source": [
        "def largestPalindrome():\n",
        "  palindrome_max =0\n",
        "  for i in range(999 , 99 ,-1):\n",
        "    for j in range(i , 99 , -1):\n",
        "      x = i*j\n",
        "      if isPalindrome(x):\n",
        "        if x> palindrome_max:\n",
        "          palindrome_max=x\n",
        "  return palindrome_max\n",
        "\n",
        "\n",
        "def isPalindrome(num):\n",
        "  if str(num) == str(num)[::-1]:\n",
        "    return True\n",
        "  return False\n",
        "\n",
        "largestPalindrome()\n",
        "\n"
      ],
      "metadata": {
        "colab": {
          "base_uri": "https://localhost:8080/"
        },
        "id": "n2BoDDaVj___",
        "outputId": "796baabc-4695-4d6c-ee91-eb8b89588067"
      },
      "execution_count": null,
      "outputs": [
        {
          "output_type": "execute_result",
          "data": {
            "text/plain": [
              "906609"
            ]
          },
          "metadata": {},
          "execution_count": 17
        }
      ]
    },
    {
      "cell_type": "markdown",
      "source": [
        "#5. WACP to find whether a number is Armstrong or not.\n"
      ],
      "metadata": {
        "id": "hjkmEZWQhT6C"
      }
    },
    {
      "cell_type": "code",
      "source": [
        "def armstrong_num():\n",
        "  num = int(input(\"Enter any number\"))\n",
        "\n",
        "  temp = num\n",
        "  sum =0\n",
        "  power = digit_count(num)\n",
        "  print(power)\n",
        "\n",
        "\n",
        "  while temp > 0:\n",
        "    digit = temp % 10\n",
        "    sum += digit**power\n",
        "    temp = temp//10\n",
        "\n",
        "  if num == sum:\n",
        "    print(\" Number is armstrong\")\n",
        "  else:\n",
        "    print(\" Number is not armstrong\")\n",
        "\n",
        "\n",
        "def digit_count(num):\n",
        "  temp = num\n",
        "  cnt =0\n",
        "\n",
        "  while(temp > 0):\n",
        "    temp = temp//10\n",
        "    cnt +=1\n",
        "  return cnt\n",
        "\n",
        "\n",
        "armstrong_num()\n",
        "\n",
        "\n"
      ],
      "metadata": {
        "colab": {
          "base_uri": "https://localhost:8080/"
        },
        "id": "N-SZQkg1p2TD",
        "outputId": "b4886e76-1705-4b11-eba6-9936c2cb8334"
      },
      "execution_count": null,
      "outputs": [
        {
          "output_type": "stream",
          "name": "stdout",
          "text": [
            "Enter any number66666\n",
            "5\n",
            " Number is not armstrong\n"
          ]
        }
      ]
    },
    {
      "cell_type": "markdown",
      "source": [
        "6. Sprial Matrix Diagonal Sum\n",
        "\n"
      ],
      "metadata": {
        "id": "-kA_W16YFAQa"
      }
    },
    {
      "cell_type": "code",
      "source": [
        "# O(n) TC\n",
        "def diagonal_sum_approach2():\n",
        "  size = int(input(\"Enter matrix size\"))\n",
        "  sum =1\n",
        "\n",
        "  if ( size <=0 or size%2 ==0):\n",
        "    print(\"Invalid size\")\n",
        "    return\n",
        "  else:\n",
        "    for i in range(3,size+1 , 2):\n",
        "      sum += 2*(2*i**2 -3*(i-1))\n",
        "  return sum\n",
        "\n",
        "diagonal_sum_approach2()\n",
        "\n"
      ],
      "metadata": {
        "colab": {
          "base_uri": "https://localhost:8080/"
        },
        "id": "5kmfZs7pRZWF",
        "outputId": "5e7a0941-9323-45d4-bf0c-99170947e083"
      },
      "execution_count": null,
      "outputs": [
        {
          "name": "stdout",
          "output_type": "stream",
          "text": [
            "Enter matrix size5\n"
          ]
        },
        {
          "output_type": "execute_result",
          "data": {
            "text/plain": [
              "101"
            ]
          },
          "metadata": {},
          "execution_count": 29
        }
      ]
    },
    {
      "cell_type": "code",
      "source": [
        "# O(n)\n",
        "def diagonal_sum():\n",
        "  size = int(input(\"Enter matrix size\"))\n",
        "\n",
        "  if ( size <=0 or size%2 ==0):\n",
        "    print(\"Invalid size\")\n",
        "    return\n",
        "  else:\n",
        "\n",
        "    sum = ((4*size**3 ) + (3*size**2) + (8*size) -9 ) //6\n",
        "  return sum\n",
        "\n",
        "diagonal_sum()"
      ],
      "metadata": {
        "colab": {
          "base_uri": "https://localhost:8080/"
        },
        "id": "fwZjkcm5EC_P",
        "outputId": "1598031b-2afa-4c71-a8e1-3e1577fccf6d"
      },
      "execution_count": null,
      "outputs": [
        {
          "name": "stdout",
          "output_type": "stream",
          "text": [
            "Enter matrix size5\n"
          ]
        },
        {
          "output_type": "execute_result",
          "data": {
            "text/plain": [
              "101"
            ]
          },
          "metadata": {},
          "execution_count": 16
        }
      ]
    },
    {
      "cell_type": "code",
      "source": [
        "# O(n)\n",
        "def diagonal_sum():\n",
        "  mat = [[7,8,9] , [6,1,2] ,[5,4,3]]\n",
        "  sum =0\n",
        "  for i in range(len(mat)):\n",
        "    sum += mat[i][i] + mat[len(mat)-i-1][i]\n",
        "  print(mat)\n",
        "  print(sum-1)\n",
        "diagonal_sum()"
      ],
      "metadata": {
        "colab": {
          "base_uri": "https://localhost:8080/"
        },
        "id": "IoUsowXriTiV",
        "outputId": "87ad4d61-fc0a-4ef4-aa03-11469cb72416"
      },
      "execution_count": null,
      "outputs": [
        {
          "output_type": "stream",
          "name": "stdout",
          "text": [
            "[[7, 8, 9], [6, 1, 2], [5, 4, 3]]\n",
            "25\n"
          ]
        }
      ]
    },
    {
      "cell_type": "code",
      "source": [
        "25-8"
      ],
      "metadata": {
        "colab": {
          "base_uri": "https://localhost:8080/"
        },
        "id": "6bjef7V_3nS4",
        "outputId": "b72bb538-941c-4f30-c923-93ba5b4eefc8"
      },
      "execution_count": null,
      "outputs": [
        {
          "output_type": "execute_result",
          "data": {
            "text/plain": [
              "17"
            ]
          },
          "metadata": {},
          "execution_count": 21
        }
      ]
    },
    {
      "cell_type": "code",
      "source": [],
      "metadata": {
        "id": "d5L40NsjiR2G"
      },
      "execution_count": null,
      "outputs": []
    }
  ]
}