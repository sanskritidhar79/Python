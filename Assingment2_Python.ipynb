{
  "nbformat": 4,
  "nbformat_minor": 0,
  "metadata": {
    "colab": {
      "provenance": [],
      "authorship_tag": "ABX9TyNwMtub4Udq384ZWZxbj6to",
      "include_colab_link": true
    },
    "kernelspec": {
      "name": "python3",
      "display_name": "Python 3"
    },
    "language_info": {
      "name": "python"
    }
  },
  "cells": [
    {
      "cell_type": "markdown",
      "metadata": {
        "id": "view-in-github",
        "colab_type": "text"
      },
      "source": [
        "<a href=\"https://colab.research.google.com/github/sanskritidhar79/Python/blob/main/Assingment2_Python.ipynb\" target=\"_parent\"><img src=\"https://colab.research.google.com/assets/colab-badge.svg\" alt=\"Open In Colab\"/></a>"
      ]
    },
    {
      "cell_type": "code",
      "execution_count": 5,
      "metadata": {
        "colab": {
          "base_uri": "https://localhost:8080/"
        },
        "id": "iue9N-7MzuOM",
        "outputId": "ea870e06-96a4-4f3e-d326-78d31d879a34"
      },
      "outputs": [
        {
          "name": "stdout",
          "output_type": "stream",
          "text": [
            " Enter the input integer4\n"
          ]
        },
        {
          "output_type": "execute_result",
          "data": {
            "text/plain": [
              "10"
            ]
          },
          "metadata": {},
          "execution_count": 5
        }
      ],
      "source": [
        "def rec_sum(n):\n",
        "  if n ==0:\n",
        "    return 0\n",
        "  else:\n",
        "    return n + rec_sum(n-1)\n",
        "\n",
        "num = int(input(\" Enter the input integer\"))\n",
        "rec_sum(num)"
      ]
    },
    {
      "cell_type": "code",
      "source": [],
      "metadata": {
        "id": "34x1ybmMEAfb"
      },
      "execution_count": null,
      "outputs": []
    },
    {
      "cell_type": "code",
      "source": [
        "def convert_to_base(num,base):\n",
        "  digits = \"0123456789ABCDEF\"\n",
        "  if num== 0:\n",
        "    return 0\n",
        "\n",
        "  else:\n",
        "    return str(convert_to_base(num//base , base )) + str(digits[num%base])\n",
        "\n",
        "def options():\n",
        "  num = int(input(\"Enter number\"))\n",
        "  base = int(input(\"Enter Base , 2- Binary , 8-Octal , 16 - HexaDecimal\"))\n",
        "  input_num = num\n",
        "\n",
        "  if num == 0:\n",
        "    return 0\n",
        "  if base not in (2,8,16):\n",
        "    return \"Invalid Base\"\n",
        "  if num <0:\n",
        "    input_num = abs(num)\n",
        "\n",
        "  res = convert_to_base(input_num , base)\n",
        "  if num < 0:\n",
        "    return \"-\" + res\n",
        "  else:\n",
        "    return res\n",
        "\n",
        "options()"
      ],
      "metadata": {
        "colab": {
          "base_uri": "https://localhost:8080/",
          "height": 71
        },
        "id": "Ubu0nCfg6a8T",
        "outputId": "87575dc9-2205-49f4-e18b-297982b3038c"
      },
      "execution_count": 18,
      "outputs": [
        {
          "name": "stdout",
          "output_type": "stream",
          "text": [
            "Enter number9\n",
            "Enter Base , 2- Binary , 8-Octal , 16 - HexaDecimal8\n"
          ]
        },
        {
          "output_type": "execute_result",
          "data": {
            "text/plain": [
              "'011'"
            ],
            "application/vnd.google.colaboratory.intrinsic+json": {
              "type": "string"
            }
          },
          "metadata": {},
          "execution_count": 18
        }
      ]
    },
    {
      "cell_type": "code",
      "source": [
        "def dict_create():\n",
        "  str1 = input(\" Enter any String\")\n",
        "  string_count = {}\n",
        "\n",
        "  for i in str1:\n",
        "    string_count[i]= string_count.get(i,0) +1\n",
        "  return string_count\n",
        "\n",
        "dict_create()"
      ],
      "metadata": {
        "colab": {
          "base_uri": "https://localhost:8080/"
        },
        "id": "3XFgK2AwjFiv",
        "outputId": "91b533da-c43e-4347-cbd8-ded22b803661"
      },
      "execution_count": 7,
      "outputs": [
        {
          "name": "stdout",
          "output_type": "stream",
          "text": [
            " Enter any Stringhello how are you\n"
          ]
        },
        {
          "output_type": "execute_result",
          "data": {
            "text/plain": [
              "{'h': 2,\n",
              " 'e': 2,\n",
              " 'l': 2,\n",
              " 'o': 3,\n",
              " ' ': 3,\n",
              " 'w': 1,\n",
              " 'a': 1,\n",
              " 'r': 1,\n",
              " 'y': 1,\n",
              " 'u': 1}"
            ]
          },
          "metadata": {},
          "execution_count": 7
        }
      ]
    },
    {
      "cell_type": "code",
      "source": [
        "def largestPalindrome():\n",
        "  palindrome_max =0\n",
        "  for i in range(999 , 99 ,-1):\n",
        "    for j in range(i , 99 , -1):\n",
        "      x = i*j\n",
        "      if isPalindrome(x):\n",
        "        if x> palindrome_max:\n",
        "          palindrome_max=x\n",
        "  return palindrome_max\n",
        "\n",
        "\n",
        "def isPalindrome(num):\n",
        "  if str(num) == str(num)[::-1]:\n",
        "    return True\n",
        "  return False\n",
        "\n",
        "largestPalindrome()\n",
        "\n"
      ],
      "metadata": {
        "colab": {
          "base_uri": "https://localhost:8080/"
        },
        "id": "n2BoDDaVj___",
        "outputId": "796baabc-4695-4d6c-ee91-eb8b89588067"
      },
      "execution_count": 17,
      "outputs": [
        {
          "output_type": "execute_result",
          "data": {
            "text/plain": [
              "906609"
            ]
          },
          "metadata": {},
          "execution_count": 17
        }
      ]
    },
    {
      "cell_type": "code",
      "source": [
        "def armstrong_num():\n",
        "  num = int(input(\"Enter any number\"))\n",
        "\n",
        "  temp = num\n",
        "  sum =0\n",
        "  power = digit_count(num)\n",
        "  print(power)\n",
        "\n",
        "\n",
        "  while temp > 0:\n",
        "    digit = temp % 10\n",
        "    sum += digit**power\n",
        "    temp = temp//10\n",
        "\n",
        "  if num == sum:\n",
        "    print(\" Number is armstrong\")\n",
        "  else:\n",
        "    print(\" Number is not armstrong\")\n",
        "\n",
        "\n",
        "def digit_count(num):\n",
        "  temp = num\n",
        "  cnt =0\n",
        "\n",
        "  while(temp > 0):\n",
        "    temp = temp//10\n",
        "    cnt +=1\n",
        "  return cnt\n",
        "\n",
        "\n",
        "armstrong_num()\n",
        "\n",
        "\n"
      ],
      "metadata": {
        "colab": {
          "base_uri": "https://localhost:8080/"
        },
        "id": "N-SZQkg1p2TD",
        "outputId": "b4886e76-1705-4b11-eba6-9936c2cb8334"
      },
      "execution_count": 28,
      "outputs": [
        {
          "output_type": "stream",
          "name": "stdout",
          "text": [
            "Enter any number66666\n",
            "5\n",
            " Number is not armstrong\n"
          ]
        }
      ]
    },
    {
      "cell_type": "code",
      "source": [
        "def diagonal_sum():\n",
        "  size = int(input(\"Enter matrix size\"))\n",
        "\n",
        "  if ( size <=0 or size%2 ==0):\n",
        "    print(\"Invalid size\")\n",
        "    return\n",
        "  else:\n",
        "\n",
        "    sum = ((4*size**3 ) + (3*size**2) + (8*size) -9 ) //6\n",
        "  return sum\n",
        "\n",
        "diagonal_sum()"
      ],
      "metadata": {
        "colab": {
          "base_uri": "https://localhost:8080/"
        },
        "id": "fwZjkcm5EC_P",
        "outputId": "0559af6a-3a0d-462c-bd7e-5fc55a6c8af8"
      },
      "execution_count": 23,
      "outputs": [
        {
          "name": "stdout",
          "output_type": "stream",
          "text": [
            "Enter matrix size1\n"
          ]
        },
        {
          "output_type": "execute_result",
          "data": {
            "text/plain": [
              "1"
            ]
          },
          "metadata": {},
          "execution_count": 23
        }
      ]
    },
    {
      "cell_type": "code",
      "source": [
        "def diagonal_sum():\n",
        "  mat = [[1,2,3] , [2,3,4] ,[5,6,7]]\n",
        "  sum =0\n",
        "  for i in range(len(mat)):\n",
        "    sum += mat[i][i] + mat[len(mat)-i-1][i]\n",
        "  print(mat)\n",
        "  print(sum)\n",
        "diagonal_sum()"
      ],
      "metadata": {
        "colab": {
          "base_uri": "https://localhost:8080/"
        },
        "id": "IoUsowXriTiV",
        "outputId": "6fe967d9-5597-40f7-d63f-0d46a489b660"
      },
      "execution_count": 18,
      "outputs": [
        {
          "output_type": "stream",
          "name": "stdout",
          "text": [
            "[[1, 2, 3], [2, 3, 4], [5, 6, 7]]\n",
            "22\n"
          ]
        }
      ]
    },
    {
      "cell_type": "code",
      "source": [],
      "metadata": {
        "id": "6bjef7V_3nS4"
      },
      "execution_count": null,
      "outputs": []
    },
    {
      "cell_type": "code",
      "source": [],
      "metadata": {
        "id": "d5L40NsjiR2G"
      },
      "execution_count": null,
      "outputs": []
    }
  ]
}