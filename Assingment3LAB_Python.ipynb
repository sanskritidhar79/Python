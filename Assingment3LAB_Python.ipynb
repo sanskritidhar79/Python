{
  "nbformat": 4,
  "nbformat_minor": 0,
  "metadata": {
    "colab": {
      "provenance": [],
      "authorship_tag": "ABX9TyOOZjLKog6vuRBC7bmEfk0w",
      "include_colab_link": true
    },
    "kernelspec": {
      "name": "python3",
      "display_name": "Python 3"
    },
    "language_info": {
      "name": "python"
    }
  },
  "cells": [
    {
      "cell_type": "markdown",
      "metadata": {
        "id": "view-in-github",
        "colab_type": "text"
      },
      "source": [
        "<a href=\"https://colab.research.google.com/github/sanskritidhar79/Python/blob/main/Assingment3LAB_Python.ipynb\" target=\"_parent\"><img src=\"https://colab.research.google.com/assets/colab-badge.svg\" alt=\"Open In Colab\"/></a>"
      ]
    },
    {
      "cell_type": "markdown",
      "source": [
        "1. Write a program that has a class Student for storing roll number, name, and marks in five subjects of a student. Display the information stored about the student.\n"
      ],
      "metadata": {
        "id": "UEvvFrh-hUK-"
      }
    },
    {
      "cell_type": "code",
      "execution_count": null,
      "metadata": {
        "colab": {
          "base_uri": "https://localhost:8080/"
        },
        "id": "27UzD-ihhCOF",
        "outputId": "c14d508c-0da7-425d-da23-83168a7c1a2b"
      },
      "outputs": [
        {
          "output_type": "stream",
          "name": "stdout",
          "text": [
            "Enter roll number1\n",
            "Enter nameben\n",
            "Enter marks90\n",
            "Enter marks0\n",
            "Enter marks90\n",
            "Enter marks90\n",
            "Enter marks90\n",
            " ******** Student Information *******\n",
            "Roll number 1\n",
            "Name  ben\n",
            "marks in Subject 1  are  90\n",
            "marks in Subject 2  are  0\n",
            "marks in Subject 3  are  90\n",
            "marks in Subject 4  are  90\n",
            "marks in Subject 5  are  90\n"
          ]
        }
      ],
      "source": [
        "class Student:\n",
        "  def __init__(self , roll_number , name , marks):\n",
        "    self.roll_number = roll_number\n",
        "    self.name = name\n",
        "    self.marks= marks\n",
        "  def display_info(self):\n",
        "    print(\" ******** Student Information *******\")\n",
        "    print(\"Roll number\" , self.roll_number)\n",
        "    print(\"Name \" , self.name)\n",
        "    for i in range(len(self.marks)):\n",
        "      print(\"marks in Subject\" , i+1, \" are \", self.marks[i] )\n",
        "\n",
        "roll_num = int(input(\"Enter roll number\"))\n",
        "name = input(\"Enter name\")\n",
        "marks =[]\n",
        "for i in range(5):\n",
        "  marks.append(int(input(\"Enter marks\")))\n",
        "\n",
        "s = Student(roll_num, name, marks)\n",
        "s.display_info()\n",
        "\n"
      ]
    },
    {
      "cell_type": "markdown",
      "source": [
        "2. Write a program to create a derived class employee derived from the class basicinformation(member variables are name, empid, and age) and departmentinformation(member variables are dept name, assigned work, and time to complete) using multiple inheritances. Create two objects of employee class and print the details of individual objects.\n"
      ],
      "metadata": {
        "id": "tWWK40KIj-r-"
      }
    },
    {
      "cell_type": "code",
      "source": [
        "class BasicInformation:\n",
        "  def __init__(self , name , empid , age):\n",
        "    self.name = name\n",
        "    self.empid = empid\n",
        "    self.age = age\n",
        "\n",
        "  def display_basic_info(self):\n",
        "    print(\" Name is : \" ,self.name , \" employee id is \" ,self.empid , \" age is : \" , self.age )\n",
        "\n",
        "\n",
        "class DepartmentInformation:\n",
        "  def __init__(self , dept_name , assigned_work , time_to_complete):\n",
        "    self.dept_name = dept_name\n",
        "    self.assigned_work = assigned_work\n",
        "    self.time_to_complete = time_to_complete\n",
        "\n",
        "  def display_dept_info(self):\n",
        "    print(\"Department name is  :  \" , self.dept_name , \" Assinsged Work is \" , self.assigned_work , \" time to compelete is \" , self.time_to_complete)\n",
        "\n",
        "class Employee(BasicInformation , DepartmentInformation):\n",
        "  def __init__(self , name , empid , age , dept_name , assigned_work , time_to_complete):\n",
        "    BasicInformation.__init__(self , name , empid , age)\n",
        "    DepartmentInformation.__init__(self , dept_name , assigned_work ,time_to_complete)\n",
        "\n",
        "  def display_employee_info(self):\n",
        "    self.display_basic_info()\n",
        "    self.display_dept_info()\n",
        "\n",
        "\n",
        "'''\n",
        "name = input(\"Enter name\")\n",
        "empid = int(input(\"Enter empid\"))\n",
        "age = int(input(\"Enter age\"))\n",
        "dept_name = input(\"Enter dept name\")\n",
        "assigned_work = input(\"Enter assigned work\")\n",
        "time_to_complete = int(input(\"Enter time to complete\"))\n",
        "'''\n",
        "\n",
        "e1 = Employee(\"Ben\" , 1 , 20 , \"AI and DS\" , \"Python\", \"1 hour\")\n",
        "e1.display_employee_info()\n",
        "\n",
        "print()\n",
        "\n",
        "e2 = Employee(\"Sheldon\" , 2 , 21 , \"AI and DS\" , \"Linear Alzebra\", \"2 hour\")\n",
        "e2.display_employee_info()\n",
        "\n"
      ],
      "metadata": {
        "colab": {
          "base_uri": "https://localhost:8080/"
        },
        "id": "_flI8n5VkEMA",
        "outputId": "483ddc91-c8d0-4dfd-e8a7-c4ffdc96d527"
      },
      "execution_count": null,
      "outputs": [
        {
          "output_type": "stream",
          "name": "stdout",
          "text": [
            " Name is :  Ben  employee id is  1  age is :  20\n",
            "Department name is  :   AI and DS  Assinsged Work is  Python  time to compelete is  1 hour\n",
            "\n",
            " Name is :  Sheldon  employee id is  2  age is :  21\n",
            "Department name is  :   AI and DS  Assinsged Work is  Linear Alzebra  time to compelete is  2 hour\n"
          ]
        }
      ]
    },
    {
      "cell_type": "markdown",
      "source": [
        "3. Write a program that has a class Person. Inherit a class Faculty from Person which also has a class Publication.\n"
      ],
      "metadata": {
        "id": "AgzM5hOuq9HW"
      }
    },
    {
      "cell_type": "code",
      "source": [
        "\n",
        "class Person :\n",
        "  def __init__(self ,name , id  , age ):\n",
        "    self.name = name\n",
        "    self.id = id\n",
        "    self.age = age\n",
        "\n",
        "  def display_Person(self):\n",
        "    print(\"Name is , \" , self.name , \" ID is  , \" , self.id , \"age is , \" , self.age)\n",
        "\n",
        "\n",
        "class Faculty(Person):\n",
        "  def __init__(self, name , id , age,subject , department):\n",
        "    super().__init__(name , id , age)\n",
        "    self.subject = subject\n",
        "    self.department = department\n",
        "\n",
        "  def display_Faculty(self):\n",
        "    self.display_Person()\n",
        "    print(\"Subject is , \" , self.subject , \" Department is , \" , self.department)\n",
        "\n",
        "\n",
        "\n",
        "class Publication(Faculty):\n",
        "  def __init__(self , journal_name , published_date ,name , id , age,subject , department ):\n",
        "    super().__init__(name , id  , age , subject, department)\n",
        "    self.journal_name = journal_name\n",
        "    self.published_date = published_date\n",
        "\n",
        "  def display_Publication(self):\n",
        "    self.display_Faculty()\n",
        "    print(\"Journal name is ,\" , self.journal_name , \"Published date is , \" , self.published_date)\n",
        "\n",
        "\n",
        "\n",
        "p = Publication(\"IEEE\" , \"2025 \", \"Ben \" , 1 , 20 , \"Computer Science\" , \"Python\")\n",
        "p.display_Publication()\n",
        "\n",
        "\n"
      ],
      "metadata": {
        "id": "gvPwXNeQq_5I",
        "colab": {
          "base_uri": "https://localhost:8080/"
        },
        "outputId": "ce412b64-80f9-4cb6-e36a-30c63ccbaf44"
      },
      "execution_count": null,
      "outputs": [
        {
          "output_type": "stream",
          "name": "stdout",
          "text": [
            "Name is ,  Ben   ID is  ,  1 age is ,  20\n",
            "Subject is ,  Computer Science  Department is ,  Python\n",
            "Journal name is , IEEE Published date is ,  2025 \n"
          ]
        }
      ]
    },
    {
      "cell_type": "markdown",
      "source": [
        "4. Write a program that has an abstract class Polygon. Derive two classes Rectangle and Triangle from Polygon and write methods to get the details of their dimensions and hence calculate the area.\n"
      ],
      "metadata": {
        "id": "rU3O7I_QPTvU"
      }
    },
    {
      "cell_type": "code",
      "source": [
        "from abc import ABC, abstractmethod\n",
        "class Polygon(ABC):\n",
        "\n",
        "  @abstractmethod\n",
        "  def getDimensions(this):\n",
        "    pass\n",
        "\n",
        "  @abstractmethod\n",
        "  def calcArea(this):\n",
        "    pass\n",
        "\n",
        "class Rectangle(Polygon):\n",
        "  \"\"\"\n",
        "  def __init__(this , length, width):\n",
        "    this.length = length\n",
        "    this.width = width\n",
        "  \"\"\"\n",
        "\n",
        "  def getDimensions(this):\n",
        "    l = float(input(\"Enter length of rectangel\"))\n",
        "    w = float(input(\"Enter width of rectangel\"))\n",
        "    this.width = w\n",
        "    this.length = l\n",
        "\n",
        "  def calcArea(this):\n",
        "    print(\"Area of rectangle is \" ,  this.length * this.width)\n",
        "\n",
        "class Triangle(Polygon):\n",
        "  \"\"\"\n",
        "  def __init__(this , base, height):\n",
        "    this.base = base\n",
        "    this.height = height\n",
        "  \"\"\"\n",
        "\n",
        "  def getDimensions(this):\n",
        "    b = float(input(\"Enter base of Triangle \"))\n",
        "    h = float(input(\"Enter height of the Triangle \"))\n",
        "    this.base = b\n",
        "    this.height = h\n",
        "\n",
        "  def calcArea(this):\n",
        "    print(\"area of Triangle is \" ,  0.5 * (this.base) * (this.height))\n",
        "\n",
        "\n",
        "choice = int(input(\" Enter 1 for Rectangle  , enter 2 for traingle\"))\n",
        "\n",
        "if choice == 1:\n",
        "  r = Rectangle()\n",
        "  r.getDimensions()\n",
        "  r.calcArea()\n",
        "elif choice == 2:\n",
        "  t = Triangle()\n",
        "  t.getDimensions()\n",
        "  t.calcArea()\n",
        "else :\n",
        "  print(\"Invalid Choice\")\n",
        "\n",
        "\n",
        "\n",
        "\n"
      ],
      "metadata": {
        "colab": {
          "base_uri": "https://localhost:8080/"
        },
        "id": "PIMiAeIfPXD4",
        "outputId": "ed297c7f-ce9e-4486-ad57-7cace2f1d358"
      },
      "execution_count": null,
      "outputs": [
        {
          "output_type": "stream",
          "name": "stdout",
          "text": [
            " Enter 1 for Rectangle  , enter 2 for traingle2\n",
            "Enter base of Triangle 12\n",
            "Enter height of the Triangle 14\n",
            "area of Triangle is  84.0\n"
          ]
        }
      ]
    },
    {
      "cell_type": "markdown",
      "source": [
        "5.Write a Python program to create a NumPy array of shape\n",
        "5×2 filled with ones.\n"
      ],
      "metadata": {
        "id": "6t9uUHOnmg1d"
      }
    },
    {
      "cell_type": "code",
      "source": [
        "import numpy as np\n",
        "np.ones((5, 2), dtype=int)\n"
      ],
      "metadata": {
        "colab": {
          "base_uri": "https://localhost:8080/"
        },
        "id": "wzb5UPTEmh1q",
        "outputId": "cbfd1cc0-16f6-499b-f5ed-19cf0e1fe0ef"
      },
      "execution_count": null,
      "outputs": [
        {
          "output_type": "execute_result",
          "data": {
            "text/plain": [
              "array([[1, 1],\n",
              "       [1, 1],\n",
              "       [1, 1],\n",
              "       [1, 1],\n",
              "       [1, 1]])"
            ]
          },
          "metadata": {},
          "execution_count": 1
        }
      ]
    },
    {
      "cell_type": "markdown",
      "source": [
        "6. Write a Python program to create a 1D NumPy array of 10\n",
        "random numbers between 0 and 1.\n"
      ],
      "metadata": {
        "id": "OYMLwHzDm0I4"
      }
    },
    {
      "cell_type": "code",
      "source": [
        "print(np.random.rand(10))"
      ],
      "metadata": {
        "colab": {
          "base_uri": "https://localhost:8080/"
        },
        "id": "OXM6qPRxm5K9",
        "outputId": "1b1e1958-b9f0-4159-e1f9-b65ef3259929"
      },
      "execution_count": null,
      "outputs": [
        {
          "output_type": "stream",
          "name": "stdout",
          "text": [
            "[0.26356372 0.78782554 0.23759069 0.2698044  0.75667519 0.39705375\n",
            " 0.58280031 0.34720666 0.2998333  0.31207189]\n"
          ]
        }
      ]
    },
    {
      "cell_type": "markdown",
      "source": [
        "7 .\n",
        "Write a Python program to reshape a 1×9 array into a 3×3\n",
        "matrix\n"
      ],
      "metadata": {
        "id": "AFOQw9k9nbub"
      }
    },
    {
      "cell_type": "code",
      "source": [
        "def reshapeArray():\n",
        "  arr = np.array([1, 2, 3, 4, 5, 6, 7, 8, 9])\n",
        "  #print(arr.size)\n",
        "  new_arr = arr.reshape(3,3)\n",
        "  print(new_arr)\n",
        "\n",
        "reshapeArray()\n"
      ],
      "metadata": {
        "id": "IVRyXBeOnbVY",
        "colab": {
          "base_uri": "https://localhost:8080/"
        },
        "outputId": "03c6a40a-9d94-4a7a-a9ba-ee36a9afd66d"
      },
      "execution_count": null,
      "outputs": [
        {
          "output_type": "stream",
          "name": "stdout",
          "text": [
            "9\n",
            "[[1 2 3]\n",
            " [4 5 6]\n",
            " [7 8 9]]\n"
          ]
        }
      ]
    },
    {
      "cell_type": "code",
      "source": [],
      "metadata": {
        "id": "dvycNunrvU89"
      },
      "execution_count": null,
      "outputs": []
    },
    {
      "cell_type": "markdown",
      "source": [
        "8.\n",
        "Write a Python program to create a NumPy array of even\n",
        "numbers between 10 and 30.\n"
      ],
      "metadata": {
        "id": "cU13WlIsvC6P"
      }
    },
    {
      "cell_type": "code",
      "source": [
        "def evenArray():\n",
        "  arr = np.arange(10 , 31, 2)\n",
        "  print(arr)\n",
        "evenArray()"
      ],
      "metadata": {
        "colab": {
          "base_uri": "https://localhost:8080/"
        },
        "id": "CrezPrn3vWAd",
        "outputId": "dd95cca5-9a58-4c22-dc06-28d4f8a7b513"
      },
      "execution_count": null,
      "outputs": [
        {
          "output_type": "stream",
          "name": "stdout",
          "text": [
            "[10 12 14 16 18 20 22 24 26 28 30]\n"
          ]
        }
      ]
    },
    {
      "cell_type": "markdown",
      "source": [
        "9 .\n",
        "Write a Python program to create a NumPy array with 10\n",
        "linearly spaced numbers between 0 and 5.\n"
      ],
      "metadata": {
        "id": "YIcXCcZxvq4r"
      }
    },
    {
      "cell_type": "code",
      "source": [
        "def linearArray():\n",
        "  arr = np.linspace(0 , 5 , 10)\n",
        "  print(arr)\n",
        "linearArray()"
      ],
      "metadata": {
        "colab": {
          "base_uri": "https://localhost:8080/"
        },
        "id": "k-XvxX5jvxQt",
        "outputId": "44db266d-bbec-4c94-8d9e-c358cb78e48f"
      },
      "execution_count": null,
      "outputs": [
        {
          "output_type": "stream",
          "name": "stdout",
          "text": [
            "[0.         0.55555556 1.11111111 1.66666667 2.22222222 2.77777778\n",
            " 3.33333333 3.88888889 4.44444444 5.        ]\n"
          ]
        }
      ]
    },
    {
      "cell_type": "markdown",
      "source": [
        "10. Write a Python program to find the mean, median, and standard deviation of the elements in a NumPy array.\n"
      ],
      "metadata": {
        "id": "znyTv_sRwhuH"
      }
    },
    {
      "cell_type": "code",
      "source": [
        "def summaryStats():\n",
        "  arr = np.array([1,2,3,4,5,6,7,8,9])\n",
        "  print(\" Mean is  \" , np.mean(arr))\n",
        "  print(\" Median is \" , np.median(arr))\n",
        "  print(\" Standared Deviations is \" , np.std(arr))\n",
        "\n",
        "summaryStats()"
      ],
      "metadata": {
        "colab": {
          "base_uri": "https://localhost:8080/"
        },
        "id": "2V6Jn_HQwmDY",
        "outputId": "2a6855f0-80cb-4c78-c658-9cd16b568ed2"
      },
      "execution_count": null,
      "outputs": [
        {
          "output_type": "stream",
          "name": "stdout",
          "text": [
            " Mean is   5.0\n",
            " Median is  5.0\n",
            " Standared Deviations is  2.581988897471611\n"
          ]
        }
      ]
    },
    {
      "cell_type": "markdown",
      "source": [
        "11. Write a Python program to flatten a 3×3 NumPy array into a 1D array.\n"
      ],
      "metadata": {
        "id": "p6067ZjbxXyd"
      }
    },
    {
      "cell_type": "code",
      "source": [
        "def flatten_arr():\n",
        "  arr = np.array([[1,2,3] , [4,5,6] , [8,9,0]])\n",
        "  flatten_arr_res = arr.flatten()\n",
        "  print(flatten_arr_res)\n",
        "  print(flatten_arr_res.size)\n",
        "\n",
        "flatten_arr()"
      ],
      "metadata": {
        "colab": {
          "base_uri": "https://localhost:8080/"
        },
        "id": "DPAXv3gRxcGg",
        "outputId": "42135174-189f-4865-f4d0-dc8a14e7fa5f"
      },
      "execution_count": null,
      "outputs": [
        {
          "output_type": "stream",
          "name": "stdout",
          "text": [
            "[1 2 3 4 5 6 8 9 0]\n",
            "9\n"
          ]
        }
      ]
    },
    {
      "cell_type": "markdown",
      "source": [
        "12. Write a Python program to perform element-wise addition of two NumPy arrays.\n"
      ],
      "metadata": {
        "id": "0-OsdwJ8yV4R"
      }
    },
    {
      "cell_type": "code",
      "source": [
        "def elementAddition():\n",
        "  arr1 = np.array([4,5,6])\n",
        "  arr2 = np.array([1,2,3])\n",
        "\n",
        "  print(np.add(arr1 , arr2))\n",
        "\n",
        "elementAddition()\n"
      ],
      "metadata": {
        "colab": {
          "base_uri": "https://localhost:8080/"
        },
        "id": "mih_ne7hyceS",
        "outputId": "4e5f8e04-d3e7-44a8-8054-6e86052459a4"
      },
      "execution_count": null,
      "outputs": [
        {
          "output_type": "stream",
          "name": "stdout",
          "text": [
            "[5 7 9]\n"
          ]
        }
      ]
    },
    {
      "cell_type": "markdown",
      "source": [
        "13.Write a Python program to find the dot product of two 1D\n",
        "NumPy arrays (vectors)\n"
      ],
      "metadata": {
        "id": "GUeQiYvdy0Ne"
      }
    },
    {
      "cell_type": "code",
      "source": [
        "def dotProduct():\n",
        "  vector1 = np.array([1,2,3])\n",
        "  vector2 = np.array([4,5,6])\n",
        "\n",
        "  print(np.dot(vector1 , vector2))\n",
        "\n",
        "dotProduct()\n"
      ],
      "metadata": {
        "colab": {
          "base_uri": "https://localhost:8080/"
        },
        "id": "3wvvuknuzISc",
        "outputId": "df752512-1d53-451d-e0c8-5bc4cd346838"
      },
      "execution_count": null,
      "outputs": [
        {
          "output_type": "stream",
          "name": "stdout",
          "text": [
            "32\n"
          ]
        },
        {
          "output_type": "execute_result",
          "data": {
            "text/plain": [
              "32"
            ]
          },
          "metadata": {},
          "execution_count": 17
        }
      ]
    },
    {
      "cell_type": "markdown",
      "source": [
        "14. Write a Python program to find the cross product of two 1D\n",
        "NumPy arrays (vectors).\n"
      ],
      "metadata": {
        "id": "4q1Y9USOz0HO"
      }
    },
    {
      "cell_type": "code",
      "source": [
        "def crossProduct():\n",
        "  vector1 = np.array([1,2,3])\n",
        "  vector2 = np.array([4,5,6])\n",
        "  print(np.cross(vector1 , vector2))\n",
        "\n",
        "crossProduct()\n",
        "\n"
      ],
      "metadata": {
        "colab": {
          "base_uri": "https://localhost:8080/"
        },
        "id": "2Dfxriwlz-G0",
        "outputId": "0d7775dd-0215-42f1-9abf-fec91216b438"
      },
      "execution_count": null,
      "outputs": [
        {
          "output_type": "stream",
          "name": "stdout",
          "text": [
            "[-3  6 -3]\n"
          ]
        }
      ]
    },
    {
      "cell_type": "markdown",
      "source": [
        "15. Write a Python program to check if a set is a subset of another set.\n"
      ],
      "metadata": {
        "id": "qMm8ZCgN0X3Z"
      }
    },
    {
      "cell_type": "code",
      "source": [
        "def subsetCheck():\n",
        "  set1 = {1,2,3,4,5}\n",
        "  set2 = {4,3}\n",
        "\n",
        "  if set1.issubset(set2):\n",
        "    print(\"  Set 1 is Subset of  Set 2\")\n",
        "  else :\n",
        "    print(\"Set2 is subset of Set 1 \")\n",
        "\n",
        "subsetCheck()\n"
      ],
      "metadata": {
        "colab": {
          "base_uri": "https://localhost:8080/"
        },
        "id": "-sofOlDy0eUe",
        "outputId": "2f7a3b23-575b-40c6-cf53-3743b182dfb5"
      },
      "execution_count": null,
      "outputs": [
        {
          "output_type": "stream",
          "name": "stdout",
          "text": [
            "Set2 is subset of Set 1 \n"
          ]
        }
      ]
    }
  ]
}